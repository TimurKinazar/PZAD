{
 "cells": [
  {
   "cell_type": "code",
   "execution_count": 1,
   "metadata": {},
   "outputs": [],
   "source": [
    "import pandas as pd\n",
    "import numpy as np\n",
    "from datetime import datetime\n",
    "from tqdm import tqdm\n",
    "import matplotlib.pyplot as plt"
   ]
  },
  {
   "cell_type": "code",
   "execution_count": 2,
   "metadata": {},
   "outputs": [
    {
     "data": {
      "text/html": [
       "<div>\n",
       "<style scoped>\n",
       "    .dataframe tbody tr th:only-of-type {\n",
       "        vertical-align: middle;\n",
       "    }\n",
       "\n",
       "    .dataframe tbody tr th {\n",
       "        vertical-align: top;\n",
       "    }\n",
       "\n",
       "    .dataframe thead th {\n",
       "        text-align: right;\n",
       "    }\n",
       "</style>\n",
       "<table border=\"1\" class=\"dataframe\">\n",
       "  <thead>\n",
       "    <tr style=\"text-align: right;\">\n",
       "      <th></th>\n",
       "      <th>customer_id</th>\n",
       "      <th>visit_date</th>\n",
       "      <th>visit_spend</th>\n",
       "    </tr>\n",
       "  </thead>\n",
       "  <tbody>\n",
       "    <tr>\n",
       "      <th>0</th>\n",
       "      <td>2</td>\n",
       "      <td>2010-04-01</td>\n",
       "      <td>5.97</td>\n",
       "    </tr>\n",
       "    <tr>\n",
       "      <th>1</th>\n",
       "      <td>2</td>\n",
       "      <td>2010-04-06</td>\n",
       "      <td>12.71</td>\n",
       "    </tr>\n",
       "    <tr>\n",
       "      <th>2</th>\n",
       "      <td>2</td>\n",
       "      <td>2010-04-07</td>\n",
       "      <td>34.52</td>\n",
       "    </tr>\n",
       "    <tr>\n",
       "      <th>3</th>\n",
       "      <td>2</td>\n",
       "      <td>2010-04-12</td>\n",
       "      <td>7.89</td>\n",
       "    </tr>\n",
       "    <tr>\n",
       "      <th>4</th>\n",
       "      <td>2</td>\n",
       "      <td>2010-04-14</td>\n",
       "      <td>17.17</td>\n",
       "    </tr>\n",
       "  </tbody>\n",
       "</table>\n",
       "</div>"
      ],
      "text/plain": [
       "   customer_id  visit_date  visit_spend\n",
       "0            2  2010-04-01         5.97\n",
       "1            2  2010-04-06        12.71\n",
       "2            2  2010-04-07        34.52\n",
       "3            2  2010-04-12         7.89\n",
       "4            2  2010-04-14        17.17"
      ]
     },
     "execution_count": 2,
     "metadata": {},
     "output_type": "execute_result"
    }
   ],
   "source": [
    "data = pd.read_csv('training.csv')\n",
    "data.head()"
   ]
  },
  {
   "cell_type": "code",
   "execution_count": null,
   "metadata": {},
   "outputs": [],
   "source": []
  },
  {
   "cell_type": "code",
   "execution_count": null,
   "metadata": {},
   "outputs": [],
   "source": []
  },
  {
   "cell_type": "code",
   "execution_count": 7,
   "metadata": {},
   "outputs": [],
   "source": [
    "def TopHat(x):\n",
    "    return 0.5*(abs(x)<10)\n",
    "def KDE(kernel, w, width, observable_points,  x):\n",
    "    summ = 0\n",
    "    for i in range(len(observable_points)):\n",
    "        summ += w[i]*TopHat((x - observable_points[i])/width)\n",
    "    return summ"
   ]
  },
  {
   "cell_type": "code",
   "execution_count": 8,
   "metadata": {},
   "outputs": [],
   "source": [
    "start_train = datetime.strptime('2010-04-05', '%Y-%m-%d').date()\n",
    "end_train = datetime.strptime('2011-05-29', '%Y-%m-%d').date()"
   ]
  },
  {
   "cell_type": "code",
   "execution_count": 13,
   "metadata": {},
   "outputs": [],
   "source": [
    "customers = sorted(np.unique(data['customer_id']))"
   ]
  },
  {
   "cell_type": "code",
   "execution_count": 14,
   "metadata": {},
   "outputs": [],
   "source": [
    "data_train = data[(data['visit_date'] < '2011-05-30') & (data['visit_date'] >= '2010-04-05')]\n",
    "data_test = data[data['visit_date'] >= '2011-05-30']"
   ]
  },
  {
   "cell_type": "markdown",
   "metadata": {},
   "source": [
    "За y_true взята сумма покупки в предполагаемый первый день визита из исследования Павла Лукьяненко."
   ]
  },
  {
   "cell_type": "code",
   "execution_count": 16,
   "metadata": {},
   "outputs": [
    {
     "name": "stderr",
     "output_type": "stream",
     "text": [
      "100%|█████████████████████████████████████████████████████████████████████████| 100000/100000 [03:46<00:00, 441.56it/s]\n"
     ]
    }
   ],
   "source": [
    "y_true = []\n",
    "y1_true = []\n",
    "for client in tqdm(customers):\n",
    "    cur_data = data_test[(data_test['customer_id'] == client)]\n",
    "    visit = np.array(cur_data[['visit_date','visit_spend']]).T\n",
    "    if visit.shape[1] > 0:\n",
    "        minind = visit[0].argmin()\n",
    "        first_visit = visit[0][minind]\n",
    "        if (datetime.strptime(first_visit, '%Y-%m-%d').date() - end_train).days < 7:\n",
    "            y_true.append(datetime.strptime(first_visit, '%Y-%m-%d').date().weekday())\n",
    "            y1_true.append(visit[1][minind])\n",
    "        else:\n",
    "            y_true.append(-1)\n",
    "            y1_true.append(-1)\n",
    "    else:\n",
    "        y_true.append(-1)\n",
    "        y1_true.append(-1)"
   ]
  },
  {
   "cell_type": "markdown",
   "metadata": {},
   "source": [
    "## Для каждого клиента создается два элемента: \n",
    "1. Массив всех его сумм покупок за все время в train (далее отсортированные).\n",
    "2. Суммы покупок в предсказываемый день недели.\n",
    "\n",
    "В первом из лекции - это $s_{1},...,s_{m}$, второе - $s'_{1},...,s'_{m'}$"
   ]
  },
  {
   "cell_type": "code",
   "execution_count": 18,
   "metadata": {},
   "outputs": [
    {
     "name": "stderr",
     "output_type": "stream",
     "text": [
      "100%|██████████████████████████████████████████████████████████████████████████| 100000/100000 [32:31<00:00, 51.25it/s]\n"
     ]
    }
   ],
   "source": [
    "customers_spend_concat = []\n",
    "for client in tqdm(range(len(customers))):\n",
    "    cur_data = data_train[(data_train['customer_id'] == customers[client])]\n",
    "    visit = np.array(cur_data[['visit_date','visit_spend']]).T\n",
    "    m_array = []\n",
    "    for date in range(len(visit[0])):\n",
    "        if (datetime.strptime(visit[0][date], '%Y-%m-%d').date() - start_train).days % 7 == y_true[client]:\n",
    "            m_array.append(visit[1][date])\n",
    "    customers_spend_concat.append([visit[1], m_array])"
   ]
  },
  {
   "cell_type": "code",
   "execution_count": null,
   "metadata": {},
   "outputs": [],
   "source": []
  },
  {
   "cell_type": "code",
   "execution_count": 19,
   "metadata": {},
   "outputs": [
    {
     "name": "stderr",
     "output_type": "stream",
     "text": [
      "100%|███████████████████████████████████████████████████████████████████████| 100000/100000 [00:02<00:00, 39062.57it/s]\n"
     ]
    }
   ],
   "source": [
    "for client in tqdm(range(len(customers))):\n",
    "        customers_spend_concat[client][1] = set(customers_spend_concat[client][1])\n",
    "        customers_spend_concat[client][0] = np.sort(customers_spend_concat[client][0])"
   ]
  },
  {
   "cell_type": "markdown",
   "metadata": {},
   "source": [
    "Высчитывается весовая схема\n",
    "$f(x) = \\sum_{i = 1}^{m} \\omega_{i} * K(|s_{i} - x|)$\n",
    "\n",
    "$\\omega_{i} = (1 - \\beta) \\frac{(m - i - 1)^\\rho}{\\sum_{j = 1}^{m} j^{\\rho}}   \\leftrightarrow  s_{i}$\n",
    "\n",
    "$\\omega_{i} = \\beta \\frac{(m^{'} - i - 1)^\\rho1}{\\sum_{j = 1}^{m'} j^{\\rho^{1}}} \\leftrightarrow  s'_{i}$"
   ]
  },
  {
   "cell_type": "code",
   "execution_count": 20,
   "metadata": {
    "scrolled": true
   },
   "outputs": [],
   "source": [
    "# ro1 = 1\n",
    "# ro2 = 1\n",
    "def predict(customers_spend_concat, beta, p0, p1):\n",
    "    y1_pred = []\n",
    "    s = np.sum(np.arange(len(customers))**p1)\n",
    "    for client in tqdm(range(len(customers))):\n",
    "        observable_points = customers_spend_concat[client][0]\n",
    "        set_cust = customers_spend_concat[client][1]\n",
    "        w = np.array([(1 - beta)*(len(customers) - i + 1)**p1 / s for i in range(len(observable_points))])\n",
    "        k = np.sum(np.arange(len(set_cust))**p0)\n",
    "        if k > 0:\n",
    "            for i in range(len(observable_points)):\n",
    "                if observable_points[i] in set_cust:\n",
    "                    w[i] += (beta)*(len(set_cust) - i + 1)**p0 / k\n",
    "        x_axis = np.arange(np.min(customers_spend_concat[client][0]), np.max(customers_spend_concat[client][0]), 3)\n",
    "        res = np.array(list(map(lambda x: KDE(TopHat, w, 10, observable_points, x), x_axis)))\n",
    "        y1_pred.append(x_axis[res.argmax()])\n",
    "    return y1_pred"
   ]
  },
  {
   "cell_type": "code",
   "execution_count": 21,
   "metadata": {},
   "outputs": [],
   "source": [
    "def score(y_true, y_pred):\n",
    "    return (abs(np.array(y_true) - np.array(y_pred)) <= 10).sum() / len(y_true)"
   ]
  },
  {
   "cell_type": "code",
   "execution_count": 22,
   "metadata": {},
   "outputs": [],
   "source": [
    "# x_axis[res.argmax()]"
   ]
  },
  {
   "cell_type": "code",
   "execution_count": 23,
   "metadata": {
    "scrolled": false
   },
   "outputs": [
    {
     "name": "stderr",
     "output_type": "stream",
     "text": [
      "100%|██████████████████████████████████████████████████████████████████████████| 100000/100000 [49:21<00:00, 33.77it/s]\n",
      "  0%|                                                                               | 9/100000 [00:00<41:49, 39.84it/s]"
     ]
    },
    {
     "name": "stdout",
     "output_type": "stream",
     "text": [
      "0 0.18823\n"
     ]
    },
    {
     "name": "stderr",
     "output_type": "stream",
     "text": [
      "100%|██████████████████████████████████████████████████████████████████████████| 100000/100000 [53:42<00:00, 31.03it/s]\n",
      "  0%|                                                                              | 10/100000 [00:00<35:44, 46.63it/s]"
     ]
    },
    {
     "name": "stdout",
     "output_type": "stream",
     "text": [
      "0.2 0.11816\n"
     ]
    },
    {
     "name": "stderr",
     "output_type": "stream",
     "text": [
      "100%|██████████████████████████████████████████████████████████████████████████| 100000/100000 [48:39<00:00, 34.26it/s]\n",
      "  0%|                                                                               | 6/100000 [00:00<33:19, 50.00it/s]"
     ]
    },
    {
     "name": "stdout",
     "output_type": "stream",
     "text": [
      "0.6 0.1176\n"
     ]
    },
    {
     "name": "stderr",
     "output_type": "stream",
     "text": [
      "100%|██████████████████████████████████████████████████████████████████████████| 100000/100000 [49:05<00:00, 33.95it/s]\n",
      "  0%|                                                                              | 11/100000 [00:00<36:45, 45.34it/s]"
     ]
    },
    {
     "name": "stdout",
     "output_type": "stream",
     "text": [
      "0.8 0.11756\n"
     ]
    },
    {
     "name": "stderr",
     "output_type": "stream",
     "text": [
      "100%|██████████████████████████████████████████████████████████████████████████| 100000/100000 [48:22<00:00, 34.45it/s]\n"
     ]
    },
    {
     "name": "stdout",
     "output_type": "stream",
     "text": [
      "1 0.23579\n"
     ]
    }
   ],
   "source": [
    "betas = [0, 0.2, 0.6, 0.8, 1]\n",
    "res_beta = []\n",
    "for i in range(len(betas)):\n",
    "    res_beta.append(score(predict(customers_spend_concat, betas[i], 1,1), y1_true))\n",
    "    print(betas[i], res_beta[i])"
   ]
  },
  {
   "cell_type": "code",
   "execution_count": 24,
   "metadata": {},
   "outputs": [
    {
     "data": {
      "image/png": "[encoded data removed]",
      "text/plain": [
       "<Figure size 432x288 with 1 Axes>"
      ]
     },
     "metadata": {
      "needs_background": "light"
     },
     "output_type": "display_data"
    }
   ],
   "source": [
    "plt.plot(betas, res_beta)\n",
    "plt.xlabel('beta')\n",
    "plt.ylabel('score')\n",
    "plt.title('Зависимость качества прогноза от параметра beta')\n",
    "plt.show()"
   ]
  },
  {
   "cell_type": "code",
   "execution_count": 25,
   "metadata": {},
   "outputs": [
    {
     "data": {
      "text/plain": [
       "[0.18823, 0.11816, 0.1176, 0.11756, 0.23579]"
      ]
     },
     "execution_count": 25,
     "metadata": {},
     "output_type": "execute_result"
    }
   ],
   "source": [
    "res_beta"
   ]
  },
  {
   "cell_type": "markdown",
   "metadata": {},
   "source": [
    "Как видно из графика, в моем случае хорошо работает при $\\beta$ ,близких к нулю и к единице, то есть при использовании только данных всех сумм покупок за весь период или только сумм покупок, совершенных в угадываемый день недели.\n",
    "\n",
    "Могу предположить, что это происходит из-за выбора predict. Было бы неплохо увеличить тестовые данные и совместить результаты на по нескольким суммам по каждому клиенту, но выполненный код очень неоптимален и демонстрирует медленную работу, что не дает выполнить дополнительные исследования"
   ]
  },
  {
   "cell_type": "code",
   "execution_count": 24,
   "metadata": {},
   "outputs": [],
   "source": []
  },
  {
   "cell_type": "code",
   "execution_count": 25,
   "metadata": {},
   "outputs": [],
   "source": []
  },
  {
   "cell_type": "code",
   "execution_count": null,
   "metadata": {},
   "outputs": [],
   "source": []
  },
  {
   "cell_type": "code",
   "execution_count": 26,
   "metadata": {},
   "outputs": [],
   "source": []
  }
 ],
 "metadata": {
  "kernelspec": {
   "display_name": "Python 3",
   "language": "python",
   "name": "python3"
  },
  "language_info": {
   "codemirror_mode": {
    "name": "ipython",
    "version": 3
   },
   "file_extension": ".py",
   "mimetype": "text/x-python",
   "name": "python",
   "nbconvert_exporter": "python",
   "pygments_lexer": "ipython3",
   "version": "3.8.3"
  }
 },
 "nbformat": 4,
 "nbformat_minor": 4
}
